{
 "cells": [
  {
   "cell_type": "code",
   "execution_count": 1,
   "metadata": {},
   "outputs": [],
   "source": [
    "import sys\n",
    "\n",
    "sys.path.append(\"../\")\n",
    "from data.FileReader import FileReader\n",
    "filereader = FileReader()"
   ]
  },
  {
   "cell_type": "code",
   "execution_count": 2,
   "metadata": {},
   "outputs": [],
   "source": [
    "import json\n",
    "import requests"
   ]
  },
  {
   "cell_type": "code",
   "execution_count": 1,
   "metadata": {},
   "outputs": [],
   "source": [
    "signed_url = \"https://storage.googleapis.com/idp-trial/mycontract.pdf?x-goog-signature=57d05d3cd68f6611909798c97ac6b0bdcc8f01f6edacaae081bab10ca98ba29ebabf49eeb8c576f2b7fc8859a5feff0c4f93de9571a4e01ce94b0293b192a4ee36a6c0b73a3d2e814afe283027d80acbed684f4deebfe931dbcd4e1b460e721186fddf46f1776ffc6067adaeb5c1197bbf5cb667e995bad0ea86d87c646562725122c733f821f4b3f3eb3ceb2221ab41a6cdf37e8d96193e74ab2dd0ec3d15d735ab0ca1f8a7f2ade559c0d7795748843da68d4f1738bb6261fff8d05ade3eae821087282e54b00abd951c5c8e4ad32a249080c0f2cb13ac878708623c0f9148104a553b8f5ea87d49df0f2879563ad635dc1b27f3f805b9fcff035cff3d3c75&x-goog-algorithm=GOOG4-RSA-SHA256&x-goog-credential=altancisem%40lofty-entropy-414713.iam.gserviceaccount.com%2F20240306%2Feu%2Fstorage%2Fgoog4_request&x-goog-date=20240306T063427Z&x-goog-expires=35400&x-goog-signedheaders=host\""
   ]
  },
  {
   "cell_type": "code",
   "execution_count": null,
   "metadata": {},
   "outputs": [],
   "source": [
    "url = \"http://localhost:5001/v1/add_question\"\n",
    "headers = {\"Content-Type\": \"application/json\"}\n",
    "\n",
    "data = {\"question\": \"What is the salary stated in the contract?\",\n",
    "        \"name_of_entity\": \"salary\",\n",
    "        \"pydantic_category\": \"string\",\n",
    "        \"expected_format\": \"The saalary\",\n",
    "        \"file_urls\": [signed_url],\n",
    "        \"ground_truth\": [\"30 for bachelor, 35 for master\"],\n",
    "        }\n",
    "\n",
    "\n",
    "# Make the POST request\n",
    "response = requests.post(url, headers=headers, data=json.dumps(data))"
   ]
  },
  {
   "cell_type": "code",
   "execution_count": 3,
   "metadata": {},
   "outputs": [],
   "source": [
    "filename = filereader.read_url(signed_url)"
   ]
  },
  {
   "cell_type": "code",
   "execution_count": 4,
   "metadata": {},
   "outputs": [
    {
     "data": {
      "text/plain": [
       "'./tmp/mycontract.pdf'"
      ]
     },
     "execution_count": 4,
     "metadata": {},
     "output_type": "execute_result"
    }
   ],
   "source": [
    "filename"
   ]
  },
  {
   "cell_type": "code",
   "execution_count": 7,
   "metadata": {},
   "outputs": [],
   "source": [
    "to_rotate_url = \"https://storage.googleapis.com/idp-trial/to_be_rotated.jpeg?x-goog-signature=65249bec340ddf52c607ba605677c33c598f5eb24ccff70cc3b916ab42f67216efb70a3b10261070f7d6185c1bb476ba482fe88115dd3c955bed1c3e8a49ed4082407fc14356b7fbb868cce601a7d3860dc1889d96c77c18e8cd32fce9a3a2f2c48ce35deb6138546089b877a950b3b7ca2e445207822f2123eff49a899e36a9ab1c6abb8cf12074abd248ca67e6f0877c07db91d3f2aa996e81b7e08cb15751f3ab4e571cc23fe8b442f15d3119ae06dab61fccd7ae3dac04534fbb33492a103619cf7c7d98ea69262b686d1883b5f45fa93249d47ae8bef298f75e61456c99a0c05da81454d3eb5307f4add67b839c84816102c26e93531607eaa526624eab&x-goog-algorithm=GOOG4-RSA-SHA256&x-goog-credential=altancisem%40lofty-entropy-414713.iam.gserviceaccount.com%2F20240223%2Feu%2Fstorage%2Fgoog4_request&x-goog-date=20240223T144955Z&x-goog-expires=35400&x-goog-signedheaders=host\""
   ]
  },
  {
   "cell_type": "code",
   "execution_count": 8,
   "metadata": {},
   "outputs": [
    {
     "name": "stderr",
     "output_type": "stream",
     "text": [
      "unstructured_inference is not installed. Cannot use the hi_res partitioning strategy. Falling back to partitioning with another strategy.\n",
      "Falling back to partitioning with ocr_only.\n"
     ]
    },
    {
     "name": "stdout",
     "output_type": "stream",
     "text": [
      "Upside down document detected! Following image be rotated:  ./tmp/to_be_rotated.jpeg\n"
     ]
    }
   ],
   "source": [
    "contract = filereader.read_contract_from_url(to_rotate_url)"
   ]
  },
  {
   "cell_type": "code",
   "execution_count": 9,
   "metadata": {},
   "outputs": [
    {
     "data": {
      "text/plain": [
       "'ANSTELLUNGSVERTRAG\\n\\nZwischen ,Gemeinniitzige Gesellschaft zur Unterstiitzung berufstatiger und alleinerzie- hender Eltern mbH , (im folgenden Firma‘) und Philipp Gohl - geb. 17.11.1997\\n\\n(im folgenden ,Arbeitnehmer\\n\\n\\n\\n)\\n\\nwird folgendes vereinbart:\\n\\n§1  Beginn des Anstellungsverhiltnisses / Tatigkeit Der Arbeitnehmer wird zum ersten Mai 2023 im Hans Carl von Carlowitz Kindergarten Leipzig als staatlich anerkannter Erzieher in einem unbefristeten Arbeitsverhaltnis eingestellt.\\n\\n§2  Probezeit / Kiindigungsfristen Die ersten 6 Monate des Anstellungsverhaltnisses gelten als Probezeit. Wahrend der Probezeit kon- nen beide Parteien den Anstellungsvertrag mit einer Frist von 10 Arbeitstagen kiindigen.\\n\\nNach Ablauf der Probezeit ist eine Ktindigung nur unter Einhaltung einer Frist von 4 Wochen\\n\\nzum Monatsende zulassig. Verlangert sich die Kuindigungsfrist fur die Firma aus tariflichen oder ge- setzlichen Griinden, gilt diese Verlangerung auch fur den Arbeitnehmer.\\n\\nEine Kindigung des Anstellungsvertrages vor Dienstantritt ist ausgeschlossen.\\n\\n§3  Vergiitung . Die monatliche Bruttovergitung orientiert sich am TVOD SUE 8a.\\n\\nDie Vergtitung wird jeweils bis zum 5. des Folgemonats tiberwiesen. Die Zahlung erfolgt bargeldlos auf ein der Firma benanntes Konto des Arbeitnehmers.\\n\\nDie Zahlung von etwaigen Sondervergiitungen (Gratifikationen, Urlaubsgeld, Pramien etc.) erfolgt in jedem Einzelfall freiwillig und ohne Begriindung eines Rechtsanspruchs fir die Zukunft.\\n\\n§4  Abtretungen / Pfandungen Die teilweise oder vollstandige Abtretung und Verpfandung der Vergtitung ist ausgeschlossen. Im Falle einer Lohnpfandung ist die Firma berechtigt, die konkrete Bearbeitungsgebihr einzubehalten.\\n\\n§5  Arbeitszeit / Uberstunden Die der monatlichen Vergittung zu Grunde gelegten Arbeitszeit betragt derzeit wochentlich 40 Stunden ohne die Berticksichtigung von Pausen.\\n\\nDie Firma ist berechtigt, aus dringenden betrieblichen Erfordernissen eine Anderung der Arbeitszeit- einteilung vorzunehmen und Uberstunden anzuordnen. Wobei Uberstunden nicht vergiitet sondern durch Freizeitausgleich abgegolten werden.\\n\\n§6 Urlaub/ Nebentatigkeit Der Arbeitnehmer erhalt 30 Werktage Urlaub bezogen auf eine 5 Tage Woche — verringern sich die Arbeitstage pro Woche wird der Urlaub prozentual angepasst. Urlaubsjahr ist das Kalenderjahr. Der Zeitpunkt des jeweiligen Urlaubsantritts ist mit den betrieblichen Notwendigkeiten und der Leitung des Kindergartens abzustimmen. Wé4hrend der Probezeit kann kein Urlaub beantragt werden, die einzigen Urlaubstage wahrend der Pro- bezeit sind die Schlie&tage des Kindergartens.\\n\\nAlle Nebentatigkeiten sind genehmigungspflichtig.'"
      ]
     },
     "execution_count": 9,
     "metadata": {},
     "output_type": "execute_result"
    }
   ],
   "source": [
    "contract"
   ]
  },
  {
   "cell_type": "code",
   "execution_count": 3,
   "metadata": {},
   "outputs": [
    {
     "data": {
      "text/plain": [
       "'[\"start_date\",\"sign_date\",\"employer_name\",\"notice_period\",\"address_employer\",\"address_employee\",\"birth_date\",\"job_title\",\"type_of_contract\",\"annual_gross_salary\"]'"
      ]
     },
     "execution_count": 3,
     "metadata": {},
     "output_type": "execute_result"
    }
   ],
   "source": [
    "import requests\n",
    "import json\n",
    "headers = {\"Content-Type\": \"application/json\"}\n",
    "url = \"http://localhost:5001/v1/list_all_questions\"\n",
    "response = requests.get(url, headers=headers)\n",
    "response.text"
   ]
  },
  {
   "cell_type": "code",
   "execution_count": 4,
   "metadata": {},
   "outputs": [
    {
     "data": {
      "text/plain": [
       "'\"11.10.2022\"'"
      ]
     },
     "execution_count": 4,
     "metadata": {},
     "output_type": "execute_result"
    }
   ],
   "source": [
    "url = \"http://localhost:5001/v1/ask_single_question\"\n",
    "\n",
    "data = {\"file_url\": signed_url,\n",
    "        \"questionid\": \"sign_date\"}\n",
    "\n",
    "\n",
    "# Make the POST request\n",
    "response = requests.post(url, headers=headers, data=json.dumps(data))\n",
    "response.text"
   ]
  },
  {
   "cell_type": "code",
   "execution_count": 5,
   "metadata": {},
   "outputs": [],
   "source": [
    "url = \"http://localhost:5001/v1/process_contract\"\n",
    "headers = {\"Content-Type\": \"application/json\"}\n",
    "\n",
    "contract_folder = \"employment_contracts\"\n",
    "data = {\"file_url\": signed_url}\n",
    "\n",
    "\n",
    "# Make the POST request\n",
    "response = requests.post(url, headers=headers, data=json.dumps(data))"
   ]
  },
  {
   "cell_type": "code",
   "execution_count": 6,
   "metadata": {},
   "outputs": [
    {
     "data": {
      "text/plain": [
       "'{\"start_date\":\"01.12.2022\",\"sign_date\":\"11.10.2022\",\"employer_name\":\"CONVALID Analytics GmbH\",\"notice_period\":6.0,\"address_employer\":\"Wasserstraße 8, D-40213 Düsseldorf, Germany\",\"address_employee\":\"Cisem Altan, Akarsu Caddesi No 24 Daire 1, 34415 Kağıthane/Istanbul, Turkey\",\"birth_date\":\"N/A\",\"job_title\":\"Working Student\",\"type_of_contract\":\"working student, on-demand\",\"annual_gross_salary\":\"30 euros/hour (Bachelor\\'s program), 35 euros/hour (successfully completed Bachelor\\'s program)\"}'"
      ]
     },
     "execution_count": 6,
     "metadata": {},
     "output_type": "execute_result"
    }
   ],
   "source": [
    "response.text"
   ]
  },
  {
   "cell_type": "code",
   "execution_count": null,
   "metadata": {},
   "outputs": [],
   "source": []
  }
 ],
 "metadata": {
  "kernelspec": {
   "display_name": "idp",
   "language": "python",
   "name": "python3"
  },
  "language_info": {
   "codemirror_mode": {
    "name": "ipython",
    "version": 3
   },
   "file_extension": ".py",
   "mimetype": "text/x-python",
   "name": "python",
   "nbconvert_exporter": "python",
   "pygments_lexer": "ipython3",
   "version": "3.9.18"
  }
 },
 "nbformat": 4,
 "nbformat_minor": 2
}
